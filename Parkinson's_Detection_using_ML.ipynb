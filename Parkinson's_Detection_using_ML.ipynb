{
  "nbformat": 4,
  "nbformat_minor": 0,
  "metadata": {
    "colab": {
      "provenance": []
    },
    "kernelspec": {
      "name": "python3",
      "display_name": "Python 3"
    },
    "language_info": {
      "name": "python"
    }
  },
  "cells": [
    {
      "cell_type": "markdown",
      "source": [
        "# **Parkinson's Detection using ML**"
      ],
      "metadata": {
        "id": "Jl00I4w1T_HW"
      }
    },
    {
      "cell_type": "markdown",
      "source": [
        "# **Uploading Dataset**"
      ],
      "metadata": {
        "id": "yfMGGDvkUVOa"
      }
    },
    {
      "cell_type": "markdown",
      "source": [
        "Dataset Link:https://archive.ics.uci.edu/ml/datasets/Parkinsons"
      ],
      "metadata": {
        "id": "hGpoL3sRUa1q"
      }
    },
    {
      "cell_type": "code",
      "execution_count": 1,
      "metadata": {
        "colab": {
          "base_uri": "https://localhost:8080/"
        },
        "id": "RXg7VDIAQUF8",
        "outputId": "a1bfa5f0-53fb-4907-c73a-6c6a4f7591f7"
      },
      "outputs": [
        {
          "output_type": "stream",
          "name": "stdout",
          "text": [
            "              name  MDVP:Fo(Hz)  MDVP:Fhi(Hz)  MDVP:Flo(Hz)  MDVP:Jitter(%)  \\\n",
            "0   phon_R01_S01_1      119.992       157.302        74.997         0.00784   \n",
            "1   phon_R01_S01_2      122.400       148.650       113.819         0.00968   \n",
            "2   phon_R01_S01_3      116.682       131.111       111.555         0.01050   \n",
            "3   phon_R01_S01_4      116.676       137.871       111.366         0.00997   \n",
            "4   phon_R01_S01_5      116.014       141.781       110.655         0.01284   \n",
            "5   phon_R01_S01_6      120.552       131.162       113.787         0.00968   \n",
            "6   phon_R01_S02_1      120.267       137.244       114.820         0.00333   \n",
            "7   phon_R01_S02_2      107.332       113.840       104.315         0.00290   \n",
            "8   phon_R01_S02_3       95.730       132.068        91.754         0.00551   \n",
            "9   phon_R01_S02_4       95.056       120.103        91.226         0.00532   \n",
            "10  phon_R01_S02_5       88.333       112.240        84.072         0.00505   \n",
            "11  phon_R01_S02_6       91.904       115.871        86.292         0.00540   \n",
            "12  phon_R01_S04_1      136.926       159.866       131.276         0.00293   \n",
            "13  phon_R01_S04_2      139.173       179.139        76.556         0.00390   \n",
            "14  phon_R01_S04_3      152.845       163.305        75.836         0.00294   \n",
            "15  phon_R01_S04_4      142.167       217.455        83.159         0.00369   \n",
            "16  phon_R01_S04_5      144.188       349.259        82.764         0.00544   \n",
            "17  phon_R01_S04_6      168.778       232.181        75.603         0.00718   \n",
            "18  phon_R01_S05_1      153.046       175.829        68.623         0.00742   \n",
            "19  phon_R01_S05_2      156.405       189.398       142.822         0.00768   \n",
            "\n",
            "    MDVP:Jitter(Abs)  MDVP:RAP  MDVP:PPQ  Jitter:DDP  MDVP:Shimmer  ...  \\\n",
            "0            0.00007   0.00370   0.00554     0.01109       0.04374  ...   \n",
            "1            0.00008   0.00465   0.00696     0.01394       0.06134  ...   \n",
            "2            0.00009   0.00544   0.00781     0.01633       0.05233  ...   \n",
            "3            0.00009   0.00502   0.00698     0.01505       0.05492  ...   \n",
            "4            0.00011   0.00655   0.00908     0.01966       0.06425  ...   \n",
            "5            0.00008   0.00463   0.00750     0.01388       0.04701  ...   \n",
            "6            0.00003   0.00155   0.00202     0.00466       0.01608  ...   \n",
            "7            0.00003   0.00144   0.00182     0.00431       0.01567  ...   \n",
            "8            0.00006   0.00293   0.00332     0.00880       0.02093  ...   \n",
            "9            0.00006   0.00268   0.00332     0.00803       0.02838  ...   \n",
            "10           0.00006   0.00254   0.00330     0.00763       0.02143  ...   \n",
            "11           0.00006   0.00281   0.00336     0.00844       0.02752  ...   \n",
            "12           0.00002   0.00118   0.00153     0.00355       0.01259  ...   \n",
            "13           0.00003   0.00165   0.00208     0.00496       0.01642  ...   \n",
            "14           0.00002   0.00121   0.00149     0.00364       0.01828  ...   \n",
            "15           0.00003   0.00157   0.00203     0.00471       0.01503  ...   \n",
            "16           0.00004   0.00211   0.00292     0.00632       0.02047  ...   \n",
            "17           0.00004   0.00284   0.00387     0.00853       0.03327  ...   \n",
            "18           0.00005   0.00364   0.00432     0.01092       0.05517  ...   \n",
            "19           0.00005   0.00372   0.00399     0.01116       0.03995  ...   \n",
            "\n",
            "    Shimmer:DDA      NHR     HNR  status      RPDE       DFA   spread1  \\\n",
            "0       0.06545  0.02211  21.033       1  0.414783  0.815285 -4.813031   \n",
            "1       0.09403  0.01929  19.085       1  0.458359  0.819521 -4.075192   \n",
            "2       0.08270  0.01309  20.651       1  0.429895  0.825288 -4.443179   \n",
            "3       0.08771  0.01353  20.644       1  0.434969  0.819235 -4.117501   \n",
            "4       0.10470  0.01767  19.649       1  0.417356  0.823484 -3.747787   \n",
            "5       0.06985  0.01222  21.378       1  0.415564  0.825069 -4.242867   \n",
            "6       0.02337  0.00607  24.886       1  0.596040  0.764112 -5.634322   \n",
            "7       0.02487  0.00344  26.892       1  0.637420  0.763262 -6.167603   \n",
            "8       0.03218  0.01070  21.812       1  0.615551  0.773587 -5.498678   \n",
            "9       0.04324  0.01022  21.862       1  0.547037  0.798463 -5.011879   \n",
            "10      0.03237  0.01166  21.118       1  0.611137  0.776156 -5.249770   \n",
            "11      0.04272  0.01141  21.414       1  0.583390  0.792520 -4.960234   \n",
            "12      0.01968  0.00581  25.703       1  0.460600  0.646846 -6.547148   \n",
            "13      0.02184  0.01041  24.889       1  0.430166  0.665833 -5.660217   \n",
            "14      0.03191  0.00609  24.922       1  0.474791  0.654027 -6.105098   \n",
            "15      0.02316  0.00839  25.175       1  0.565924  0.658245 -5.340115   \n",
            "16      0.02908  0.01859  22.333       1  0.567380  0.644692 -5.440040   \n",
            "17      0.04322  0.02919  20.376       1  0.631099  0.605417 -2.931070   \n",
            "18      0.07413  0.03160  17.280       1  0.665318  0.719467 -3.949079   \n",
            "19      0.05164  0.03365  17.153       1  0.649554  0.686080 -4.554466   \n",
            "\n",
            "     spread2        D2       PPE  \n",
            "0   0.266482  2.301442  0.284654  \n",
            "1   0.335590  2.486855  0.368674  \n",
            "2   0.311173  2.342259  0.332634  \n",
            "3   0.334147  2.405554  0.368975  \n",
            "4   0.234513  2.332180  0.410335  \n",
            "5   0.299111  2.187560  0.357775  \n",
            "6   0.257682  1.854785  0.211756  \n",
            "7   0.183721  2.064693  0.163755  \n",
            "8   0.327769  2.322511  0.231571  \n",
            "9   0.325996  2.432792  0.271362  \n",
            "10  0.391002  2.407313  0.249740  \n",
            "11  0.363566  2.642476  0.275931  \n",
            "12  0.152813  2.041277  0.138512  \n",
            "13  0.254989  2.519422  0.199889  \n",
            "14  0.203653  2.125618  0.170100  \n",
            "15  0.210185  2.205546  0.234589  \n",
            "16  0.239764  2.264501  0.218164  \n",
            "17  0.434326  3.007463  0.430788  \n",
            "18  0.357870  3.109010  0.377429  \n",
            "19  0.340176  2.856676  0.322111  \n",
            "\n",
            "[20 rows x 24 columns]\n"
          ]
        }
      ],
      "source": [
        "import pandas as pd\n",
        "\n",
        "# Load the dataset\n",
        "df = pd.read_csv('parkinsons.data')\n",
        "\n",
        "# Display the first few rows\n",
        "print(df.head(20))\n"
      ]
    },
    {
      "cell_type": "markdown",
      "source": [
        "Understanding the Dataset"
      ],
      "metadata": {
        "id": "pUWdjaAiUjrn"
      }
    },
    {
      "cell_type": "code",
      "source": [
        "# Check dataset structure\n",
        "print(df.info())\n",
        "\n",
        "# Check for missing values\n",
        "print(df.isnull().sum())\n",
        "\n",
        "# Display statistical summary\n",
        "print(df.describe())\n"
      ],
      "metadata": {
        "colab": {
          "base_uri": "https://localhost:8080/"
        },
        "id": "AUSpkIYlQlG-",
        "outputId": "918297c1-563a-4fba-fcf8-df8f9ad5dfec"
      },
      "execution_count": 2,
      "outputs": [
        {
          "output_type": "stream",
          "name": "stdout",
          "text": [
            "<class 'pandas.core.frame.DataFrame'>\n",
            "RangeIndex: 195 entries, 0 to 194\n",
            "Data columns (total 24 columns):\n",
            " #   Column            Non-Null Count  Dtype  \n",
            "---  ------            --------------  -----  \n",
            " 0   name              195 non-null    object \n",
            " 1   MDVP:Fo(Hz)       195 non-null    float64\n",
            " 2   MDVP:Fhi(Hz)      195 non-null    float64\n",
            " 3   MDVP:Flo(Hz)      195 non-null    float64\n",
            " 4   MDVP:Jitter(%)    195 non-null    float64\n",
            " 5   MDVP:Jitter(Abs)  195 non-null    float64\n",
            " 6   MDVP:RAP          195 non-null    float64\n",
            " 7   MDVP:PPQ          195 non-null    float64\n",
            " 8   Jitter:DDP        195 non-null    float64\n",
            " 9   MDVP:Shimmer      195 non-null    float64\n",
            " 10  MDVP:Shimmer(dB)  195 non-null    float64\n",
            " 11  Shimmer:APQ3      195 non-null    float64\n",
            " 12  Shimmer:APQ5      195 non-null    float64\n",
            " 13  MDVP:APQ          195 non-null    float64\n",
            " 14  Shimmer:DDA       195 non-null    float64\n",
            " 15  NHR               195 non-null    float64\n",
            " 16  HNR               195 non-null    float64\n",
            " 17  status            195 non-null    int64  \n",
            " 18  RPDE              195 non-null    float64\n",
            " 19  DFA               195 non-null    float64\n",
            " 20  spread1           195 non-null    float64\n",
            " 21  spread2           195 non-null    float64\n",
            " 22  D2                195 non-null    float64\n",
            " 23  PPE               195 non-null    float64\n",
            "dtypes: float64(22), int64(1), object(1)\n",
            "memory usage: 36.7+ KB\n",
            "None\n",
            "name                0\n",
            "MDVP:Fo(Hz)         0\n",
            "MDVP:Fhi(Hz)        0\n",
            "MDVP:Flo(Hz)        0\n",
            "MDVP:Jitter(%)      0\n",
            "MDVP:Jitter(Abs)    0\n",
            "MDVP:RAP            0\n",
            "MDVP:PPQ            0\n",
            "Jitter:DDP          0\n",
            "MDVP:Shimmer        0\n",
            "MDVP:Shimmer(dB)    0\n",
            "Shimmer:APQ3        0\n",
            "Shimmer:APQ5        0\n",
            "MDVP:APQ            0\n",
            "Shimmer:DDA         0\n",
            "NHR                 0\n",
            "HNR                 0\n",
            "status              0\n",
            "RPDE                0\n",
            "DFA                 0\n",
            "spread1             0\n",
            "spread2             0\n",
            "D2                  0\n",
            "PPE                 0\n",
            "dtype: int64\n",
            "       MDVP:Fo(Hz)  MDVP:Fhi(Hz)  MDVP:Flo(Hz)  MDVP:Jitter(%)  \\\n",
            "count   195.000000    195.000000    195.000000      195.000000   \n",
            "mean    154.228641    197.104918    116.324631        0.006220   \n",
            "std      41.390065     91.491548     43.521413        0.004848   \n",
            "min      88.333000    102.145000     65.476000        0.001680   \n",
            "25%     117.572000    134.862500     84.291000        0.003460   \n",
            "50%     148.790000    175.829000    104.315000        0.004940   \n",
            "75%     182.769000    224.205500    140.018500        0.007365   \n",
            "max     260.105000    592.030000    239.170000        0.033160   \n",
            "\n",
            "       MDVP:Jitter(Abs)    MDVP:RAP    MDVP:PPQ  Jitter:DDP  MDVP:Shimmer  \\\n",
            "count        195.000000  195.000000  195.000000  195.000000    195.000000   \n",
            "mean           0.000044    0.003306    0.003446    0.009920      0.029709   \n",
            "std            0.000035    0.002968    0.002759    0.008903      0.018857   \n",
            "min            0.000007    0.000680    0.000920    0.002040      0.009540   \n",
            "25%            0.000020    0.001660    0.001860    0.004985      0.016505   \n",
            "50%            0.000030    0.002500    0.002690    0.007490      0.022970   \n",
            "75%            0.000060    0.003835    0.003955    0.011505      0.037885   \n",
            "max            0.000260    0.021440    0.019580    0.064330      0.119080   \n",
            "\n",
            "       MDVP:Shimmer(dB)  ...  Shimmer:DDA         NHR         HNR      status  \\\n",
            "count        195.000000  ...   195.000000  195.000000  195.000000  195.000000   \n",
            "mean           0.282251  ...     0.046993    0.024847   21.885974    0.753846   \n",
            "std            0.194877  ...     0.030459    0.040418    4.425764    0.431878   \n",
            "min            0.085000  ...     0.013640    0.000650    8.441000    0.000000   \n",
            "25%            0.148500  ...     0.024735    0.005925   19.198000    1.000000   \n",
            "50%            0.221000  ...     0.038360    0.011660   22.085000    1.000000   \n",
            "75%            0.350000  ...     0.060795    0.025640   25.075500    1.000000   \n",
            "max            1.302000  ...     0.169420    0.314820   33.047000    1.000000   \n",
            "\n",
            "             RPDE         DFA     spread1     spread2          D2         PPE  \n",
            "count  195.000000  195.000000  195.000000  195.000000  195.000000  195.000000  \n",
            "mean     0.498536    0.718099   -5.684397    0.226510    2.381826    0.206552  \n",
            "std      0.103942    0.055336    1.090208    0.083406    0.382799    0.090119  \n",
            "min      0.256570    0.574282   -7.964984    0.006274    1.423287    0.044539  \n",
            "25%      0.421306    0.674758   -6.450096    0.174351    2.099125    0.137451  \n",
            "50%      0.495954    0.722254   -5.720868    0.218885    2.361532    0.194052  \n",
            "75%      0.587562    0.761881   -5.046192    0.279234    2.636456    0.252980  \n",
            "max      0.685151    0.825288   -2.434031    0.450493    3.671155    0.527367  \n",
            "\n",
            "[8 rows x 23 columns]\n"
          ]
        }
      ]
    },
    {
      "cell_type": "markdown",
      "source": [
        "Selecting Features & Target Variable"
      ],
      "metadata": {
        "id": "XE50rQTTVOAe"
      }
    },
    {
      "cell_type": "code",
      "source": [
        "# Drop 'name' column as it's not useful\n",
        "df = df.drop(columns=['name'])\n",
        "\n",
        "# Define features (X) and target (y)\n",
        "X = df.drop(columns=['status'])  # Features\n",
        "y = df['status']                 # Target (0 or Healthy 1 for PD)\n",
        "\n",
        "# Display shape of X and y\n",
        "print(f\"Features Shape: {X.shape}, Target Shape: {y.shape}\")\n"
      ],
      "metadata": {
        "colab": {
          "base_uri": "https://localhost:8080/"
        },
        "id": "OUhbLwhPQ4Dt",
        "outputId": "756b5349-f7ca-4a02-a597-5e506e034534"
      },
      "execution_count": 3,
      "outputs": [
        {
          "output_type": "stream",
          "name": "stdout",
          "text": [
            "Features Shape: (195, 22), Target Shape: (195,)\n"
          ]
        }
      ]
    },
    {
      "cell_type": "markdown",
      "source": [
        "Splitting Data into Train & Test Sets"
      ],
      "metadata": {
        "id": "NGB_yO8BVSBo"
      }
    },
    {
      "cell_type": "code",
      "source": [
        "from sklearn.model_selection import train_test_split\n",
        "\n",
        "# Split dataset into training (80%) and testing (20%)\n",
        "X_train, X_test, y_train, y_test = train_test_split(X, y, test_size=0.2, random_state=42)\n",
        "\n",
        "# Display the shape of training and testing sets\n",
        "print(f\"Training Data Shape: {X_train.shape}, Testing Data Shape: {X_test.shape}\")\n"
      ],
      "metadata": {
        "colab": {
          "base_uri": "https://localhost:8080/"
        },
        "id": "udKAdlzSQ8YM",
        "outputId": "69026423-3fe9-4941-f142-d15965ecc0cc"
      },
      "execution_count": 4,
      "outputs": [
        {
          "output_type": "stream",
          "name": "stdout",
          "text": [
            "Training Data Shape: (156, 22), Testing Data Shape: (39, 22)\n"
          ]
        }
      ]
    },
    {
      "cell_type": "markdown",
      "source": [
        "Feature Scaling (Normalization)"
      ],
      "metadata": {
        "id": "AFovE-oLVWWy"
      }
    },
    {
      "cell_type": "code",
      "source": [
        "from sklearn.preprocessing import StandardScaler\n",
        "\n",
        "# Initialize scaler\n",
        "scaler = StandardScaler()\n",
        "\n",
        "# Fit and transform the training data\n",
        "X_train = scaler.fit_transform(X_train)\n",
        "\n",
        "# Transform the testing data\n",
        "X_test = scaler.transform(X_test)\n"
      ],
      "metadata": {
        "id": "5JzBqUZRQ_ld"
      },
      "execution_count": 5,
      "outputs": []
    },
    {
      "cell_type": "markdown",
      "source": [
        "# Train Using Random Forest Classifier"
      ],
      "metadata": {
        "id": "rWa5VAnlVdrH"
      }
    },
    {
      "cell_type": "code",
      "source": [
        "from sklearn.ensemble import RandomForestClassifier\n",
        "from sklearn.metrics import accuracy_score, classification_report, confusion_matrix\n",
        "\n",
        "# Initialize model\n",
        "model1 = RandomForestClassifier(n_estimators=100, random_state=42)\n",
        "\n",
        "# Train model\n",
        "model1.fit(X_train, y_train)\n",
        "\n",
        "# Make predictions\n",
        "y_pred = model1.predict(X_test)\n"
      ],
      "metadata": {
        "id": "AY2K4HyxRChm"
      },
      "execution_count": 6,
      "outputs": []
    },
    {
      "cell_type": "markdown",
      "source": [
        "Evaluation of Model"
      ],
      "metadata": {
        "id": "fGvAQf9iVtGY"
      }
    },
    {
      "cell_type": "code",
      "source": [
        "# Calculate Accuracy\n",
        "accuracy = accuracy_score(y_test, y_pred)\n",
        "print(f'Accuracy: {accuracy:.4f}')\n",
        "\n",
        "# Display Classification Report\n",
        "print(\"Classification Report:\\n\", classification_report(y_test, y_pred))\n",
        "\n",
        "# Confusion Matrix\n",
        "import seaborn as sns\n",
        "import matplotlib.pyplot as plt\n",
        "\n",
        "plt.figure(figsize=(6,4))\n",
        "sns.heatmap(confusion_matrix(y_test, y_pred), annot=True, fmt='d', cmap='Blues')\n",
        "plt.xlabel(\"Predicted\")\n",
        "plt.ylabel(\"Actual\")\n",
        "plt.title(\"Confusion Matrix\")\n",
        "plt.show()\n"
      ],
      "metadata": {
        "colab": {
          "base_uri": "https://localhost:8080/",
          "height": 611
        },
        "id": "DyYRL6r7REqk",
        "outputId": "d6647e4b-2c0b-4e26-c363-f57140c6e86e"
      },
      "execution_count": 7,
      "outputs": [
        {
          "output_type": "stream",
          "name": "stdout",
          "text": [
            "Accuracy: 0.9487\n",
            "Classification Report:\n",
            "               precision    recall  f1-score   support\n",
            "\n",
            "           0       1.00      0.71      0.83         7\n",
            "           1       0.94      1.00      0.97        32\n",
            "\n",
            "    accuracy                           0.95        39\n",
            "   macro avg       0.97      0.86      0.90        39\n",
            "weighted avg       0.95      0.95      0.95        39\n",
            "\n"
          ]
        },
        {
          "output_type": "display_data",
          "data": {
            "text/plain": [
              "<Figure size 600x400 with 2 Axes>"
            ],
            "image/png": "[encoded data removed]"
          },
          "metadata": {}
        }
      ]
    },
    {
      "cell_type": "markdown",
      "source": [
        "**Predict Parkinson’s for a New Patient**"
      ],
      "metadata": {
        "id": "VZHpawiEVzve"
      }
    },
    {
      "cell_type": "code",
      "source": [
        "# testing for a new patient\n",
        "new_patient = [11.992, 5.302, 14.997, 0.00784, 0.00007, 0.0370, 0.00554, 0.0140,\n",
        "               0.1908, 0.64, 0.355, 211.093, 0.02184, 0.01908, 0.00143, 222.105, 0.426,\n",
        "               0.141, 211.94, 0.00784, 0.7, 0.00370]\n",
        "\n",
        "# Scale the new patient data\n",
        "new_patient_scaled = scaler.transform([new_patient])\n",
        "\n",
        "# Predict Parkinson’s status\n",
        "predicted_status = model1.predict(new_patient_scaled)\n",
        "print(\"Predicted Status:\", \"Parkinson's\" if predicted_status[0] == 1 else \"Healthy\")\n"
      ],
      "metadata": {
        "colab": {
          "base_uri": "https://localhost:8080/"
        },
        "id": "w5L3oQjyRKnM",
        "outputId": "953c5b44-6330-4108-e40a-040f64533046"
      },
      "execution_count": 8,
      "outputs": [
        {
          "output_type": "stream",
          "name": "stdout",
          "text": [
            "Predicted Status: Parkinson's\n"
          ]
        },
        {
          "output_type": "stream",
          "name": "stderr",
          "text": [
            "/usr/local/lib/python3.11/dist-packages/sklearn/utils/validation.py:2739: UserWarning: X does not have valid feature names, but StandardScaler was fitted with feature names\n",
            "  warnings.warn(\n"
          ]
        }
      ]
    },
    {
      "cell_type": "markdown",
      "source": [
        "# Use different Models: Logistic Regression, SVM, Neural Network"
      ],
      "metadata": {
        "id": "big1f3yFV8_3"
      }
    },
    {
      "cell_type": "code",
      "source": [
        "from sklearn.linear_model import LogisticRegression\n",
        "from sklearn.svm import SVC\n",
        "from sklearn.neural_network import MLPClassifier\n",
        "from sklearn.metrics import accuracy_score\n",
        "\n",
        "# Initialize models\n",
        "models = {\n",
        "    \"Logistic Regression\": LogisticRegression(),\n",
        "    \"SVM\": SVC(kernel='linear'),\n",
        "    \"Neural Network\": MLPClassifier(hidden_layer_sizes=(100,), max_iter=500, random_state=42)\n",
        "}\n",
        "\n",
        "# Train and evaluate each model\n",
        "for name, model in models.items():\n",
        "    model.fit(X_train, y_train)  # Train the model\n",
        "    y_pred = model.predict(X_test)  # Make predictions\n",
        "    acc = accuracy_score(y_test, y_pred)  # Calculate accuracy\n",
        "    print(f\"{name} Accuracy: {acc:.4f}\")\n",
        "\n",
        "    # Display Classification Report\n",
        "    print(f\"\\n Classification Report for {name}:\")\n",
        "    print(classification_report(y_test, y_pred))\n",
        "\n",
        "    # Compute Confusion Matrix\n",
        "    cm = confusion_matrix(y_test, y_pred)\n",
        "\n",
        "    # Plot Confusion Matrix\n",
        "    plt.figure(figsize=(6,4))\n",
        "    sns.heatmap(cm, annot=True, fmt='d', cmap='Blues')\n",
        "    plt.xlabel(\"Predicted\")\n",
        "    plt.ylabel(\"Actual\")\n",
        "    plt.title(f\"Confusion Matrix - {name}\")\n",
        "    plt.show()\n",
        "\n"
      ],
      "metadata": {
        "colab": {
          "base_uri": "https://localhost:8080/",
          "height": 1000
        },
        "id": "o5e90--8RbXe",
        "outputId": "47c3d46f-f79d-425d-cf74-614839d5962f"
      },
      "execution_count": 9,
      "outputs": [
        {
          "output_type": "stream",
          "name": "stdout",
          "text": [
            "Logistic Regression Accuracy: 0.8974\n",
            "\n",
            " Classification Report for Logistic Regression:\n",
            "              precision    recall  f1-score   support\n",
            "\n",
            "           0       1.00      0.43      0.60         7\n",
            "           1       0.89      1.00      0.94        32\n",
            "\n",
            "    accuracy                           0.90        39\n",
            "   macro avg       0.94      0.71      0.77        39\n",
            "weighted avg       0.91      0.90      0.88        39\n",
            "\n"
          ]
        },
        {
          "output_type": "display_data",
          "data": {
            "text/plain": [
              "<Figure size 600x400 with 2 Axes>"
            ],
            "image/png": "[encoded data removed]"
          },
          "metadata": {}
        },
        {
          "output_type": "stream",
          "name": "stdout",
          "text": [
            "SVM Accuracy: 0.8718\n",
            "\n",
            " Classification Report for SVM:\n",
            "              precision    recall  f1-score   support\n",
            "\n",
            "           0       0.67      0.57      0.62         7\n",
            "           1       0.91      0.94      0.92        32\n",
            "\n",
            "    accuracy                           0.87        39\n",
            "   macro avg       0.79      0.75      0.77        39\n",
            "weighted avg       0.87      0.87      0.87        39\n",
            "\n"
          ]
        },
        {
          "output_type": "display_data",
          "data": {
            "text/plain": [
              "<Figure size 600x400 with 2 Axes>"
            ],
            "image/png": "[encoded data removed]"
          },
          "metadata": {}
        },
        {
          "output_type": "stream",
          "name": "stderr",
          "text": [
            "/usr/local/lib/python3.11/dist-packages/sklearn/neural_network/_multilayer_perceptron.py:691: ConvergenceWarning: Stochastic Optimizer: Maximum iterations (500) reached and the optimization hasn't converged yet.\n",
            "  warnings.warn(\n"
          ]
        },
        {
          "output_type": "stream",
          "name": "stdout",
          "text": [
            "Neural Network Accuracy: 0.9487\n",
            "\n",
            " Classification Report for Neural Network:\n",
            "              precision    recall  f1-score   support\n",
            "\n",
            "           0       1.00      0.71      0.83         7\n",
            "           1       0.94      1.00      0.97        32\n",
            "\n",
            "    accuracy                           0.95        39\n",
            "   macro avg       0.97      0.86      0.90        39\n",
            "weighted avg       0.95      0.95      0.95        39\n",
            "\n"
          ]
        },
        {
          "output_type": "display_data",
          "data": {
            "text/plain": [
              "<Figure size 600x400 with 2 Axes>"
            ],
            "image/png": "[encoded data removed]"
          },
          "metadata": {}
        }
      ]
    },
    {
      "cell_type": "code",
      "source": [
        "# Initialize model\n",
        "NN =MLPClassifier(hidden_layer_sizes=(100,), max_iter=500, random_state=42)\n",
        "\n",
        "# Train model\n",
        "NN.fit(X_train, y_train)\n",
        "\n",
        "# Make predictions\n",
        "y_pred = NN.predict(X_test)\n",
        "acc = accuracy_score(y_test, y_pred)  # Calculate accuracy\n",
        "print(f\"{name} Accuracy: {acc:.4f}\")"
      ],
      "metadata": {
        "colab": {
          "base_uri": "https://localhost:8080/"
        },
        "id": "Lj8DZmoqIaAD",
        "outputId": "bc4a2b34-b80f-4f9f-c37d-b64c8b7230ec"
      },
      "execution_count": 10,
      "outputs": [
        {
          "output_type": "stream",
          "name": "stdout",
          "text": [
            "Neural Network Accuracy: 0.9487\n"
          ]
        },
        {
          "output_type": "stream",
          "name": "stderr",
          "text": [
            "/usr/local/lib/python3.11/dist-packages/sklearn/neural_network/_multilayer_perceptron.py:691: ConvergenceWarning: Stochastic Optimizer: Maximum iterations (500) reached and the optimization hasn't converged yet.\n",
            "  warnings.warn(\n"
          ]
        }
      ]
    },
    {
      "cell_type": "markdown",
      "source": [
        "Feature Engineering"
      ],
      "metadata": {
        "id": "tvF-gmkTWMwr"
      }
    },
    {
      "cell_type": "code",
      "source": [
        "import matplotlib.pyplot as plt\n",
        "import numpy as np\n",
        "import seaborn as sns\n",
        "from sklearn.ensemble import RandomForestClassifier\n",
        "\n",
        "# Train a Random Forest Model\n",
        "rf = RandomForestClassifier(n_estimators=100, random_state=42)\n",
        "rf.fit(X_train, y_train)\n",
        "\n",
        "# Get feature importance scores\n",
        "feature_importances = rf.feature_importances_\n",
        "\n",
        "# Sort and plot feature importances\n",
        "indices = np.argsort(feature_importances)[::-1]  # Sort in descending order\n",
        "plt.figure(figsize=(10,6))\n",
        "sns.barplot(x=X.columns[indices], y=feature_importances[indices])\n",
        "plt.xticks(rotation=90)\n",
        "plt.xlabel(\"Feature Name\")\n",
        "plt.ylabel(\"Importance Score\")\n",
        "plt.title(\"Feature Importance Ranking\")\n",
        "plt.show()\n"
      ],
      "metadata": {
        "colab": {
          "base_uri": "https://localhost:8080/",
          "height": 687
        },
        "id": "5See8ZsmRug9",
        "outputId": "6f55c54b-7359-402f-cf0f-b34d1634aabb"
      },
      "execution_count": 11,
      "outputs": [
        {
          "output_type": "display_data",
          "data": {
            "text/plain": [
              "<Figure size 1000x600 with 1 Axes>"
            ],
            "image/png": "[encoded data removed]"
          },
          "metadata": {}
        }
      ]
    },
    {
      "cell_type": "markdown",
      "source": [
        "Select only the top 10 important features and check acuuracy for Logistic Regression"
      ],
      "metadata": {
        "id": "j9Bo0UIiWTQT"
      }
    },
    {
      "cell_type": "code",
      "source": [
        "# Select top 10 important features\n",
        "important_features = X.columns[indices[:10]]\n",
        "X_train_selected = X_train[:, indices[:10]]\n",
        "X_test_selected = X_test[:, indices[:10]]\n",
        "\n",
        "# Retrain Logistic Regression with selected features\n",
        "log_reg = LogisticRegression()\n",
        "log_reg.fit(X_train_selected, y_train)\n",
        "y_pred = log_reg.predict(X_test_selected)\n",
        "print(f\"Logistic Regression Accuracy (Selected Features): {accuracy_score(y_test, y_pred):.4f}\")\n"
      ],
      "metadata": {
        "colab": {
          "base_uri": "https://localhost:8080/"
        },
        "id": "h5v498aMRxdF",
        "outputId": "6d9642c1-b826-49cb-a69f-727846f5807b"
      },
      "execution_count": 12,
      "outputs": [
        {
          "output_type": "stream",
          "name": "stdout",
          "text": [
            "Logistic Regression Accuracy (Selected Features): 0.9231\n"
          ]
        }
      ]
    },
    {
      "cell_type": "markdown",
      "source": [
        "Check acuuracy for Random Forest Classifier for selected 10 important Features"
      ],
      "metadata": {
        "id": "FN0_Cwki1lMW"
      }
    },
    {
      "cell_type": "code",
      "source": [
        "# Train Random Forest on selected features\n",
        "rf = RandomForestClassifier(n_estimators=100, random_state=42)\n",
        "rf.fit(X_train_selected, y_train)\n",
        "\n",
        "# Predict on test set\n",
        "y_pred_rf = rf.predict(X_test_selected)\n",
        "\n",
        "# Print accuracy\n",
        "print(f\"Random Forest Accuracy (Selected Features): {accuracy_score(y_test, y_pred_rf):.4f}\")\n"
      ],
      "metadata": {
        "colab": {
          "base_uri": "https://localhost:8080/"
        },
        "id": "nmJyx8HkJ7OQ",
        "outputId": "04b3250e-c8ce-4d27-c870-a82ddce4c9f4"
      },
      "execution_count": 13,
      "outputs": [
        {
          "output_type": "stream",
          "name": "stdout",
          "text": [
            "Random Forest Accuracy (Selected Features): 0.9487\n"
          ]
        }
      ]
    },
    {
      "cell_type": "markdown",
      "source": [
        "Check acuuracy for SVM for selected 10 important Features"
      ],
      "metadata": {
        "id": "lIp7hPvA2A5y"
      }
    },
    {
      "cell_type": "code",
      "source": [
        "# Train SVM on selected features\n",
        "svm = SVC(kernel='linear')  # Linear kernel for better interpretability\n",
        "svm.fit(X_train_selected, y_train)\n",
        "\n",
        "# Predict on test set\n",
        "y_pred_svm = svm.predict(X_test_selected)\n",
        "\n",
        "# Print accuracy\n",
        "print(f\"SVM Accuracy (Selected Features): {accuracy_score(y_test, y_pred_svm):.4f}\")\n"
      ],
      "metadata": {
        "colab": {
          "base_uri": "https://localhost:8080/"
        },
        "id": "5LQGRNP5KuGh",
        "outputId": "ac6224f9-5f6a-4c10-d804-0c4609c14a5a"
      },
      "execution_count": 14,
      "outputs": [
        {
          "output_type": "stream",
          "name": "stdout",
          "text": [
            "SVM Accuracy (Selected Features): 0.9231\n"
          ]
        }
      ]
    },
    {
      "cell_type": "markdown",
      "source": [
        "Check acuuracy for Neural Network for selected 10 important Features"
      ],
      "metadata": {
        "id": "N3Xl0zTj2O6g"
      }
    },
    {
      "cell_type": "code",
      "source": [
        "from tensorflow.keras.models import Sequential\n",
        "from tensorflow.keras.layers import Dense\n",
        "\n",
        "# Define Neural Network architecture\n",
        "nn_model = Sequential([\n",
        "    Dense(32, activation='relu', input_shape=(10,)),  # 10 selected features\n",
        "    Dense(16, activation='relu'),\n",
        "    Dense(1, activation='sigmoid')  # Binary classification (change activation for multi-class)\n",
        "])\n",
        "\n",
        "# Compile the model\n",
        "nn_model.compile(optimizer='adam', loss='binary_crossentropy', metrics=['accuracy'])\n",
        "\n",
        "# Train the Neural Network\n",
        "nn_model.fit(X_train_selected, y_train, epochs=20, batch_size=32, verbose=0)\n",
        "\n",
        "# Evaluate on test data\n",
        "loss, acc_nn = nn_model.evaluate(X_test_selected, y_test, verbose=0)\n",
        "print(f\"Neural Network Accuracy (Selected Features): {acc_nn:.4f}\")\n"
      ],
      "metadata": {
        "colab": {
          "base_uri": "https://localhost:8080/"
        },
        "id": "chwQh-GKK3jZ",
        "outputId": "73419cb3-7dd7-4d6d-b7f2-44abe47fd2dc"
      },
      "execution_count": 15,
      "outputs": [
        {
          "output_type": "stream",
          "name": "stderr",
          "text": [
            "/usr/local/lib/python3.11/dist-packages/keras/src/layers/core/dense.py:87: UserWarning: Do not pass an `input_shape`/`input_dim` argument to a layer. When using Sequential models, prefer using an `Input(shape)` object as the first layer in the model instead.\n",
            "  super().__init__(activity_regularizer=activity_regularizer, **kwargs)\n"
          ]
        },
        {
          "output_type": "stream",
          "name": "stdout",
          "text": [
            "Neural Network Accuracy (Selected Features): 0.8462\n"
          ]
        }
      ]
    },
    {
      "cell_type": "markdown",
      "source": [
        "# **Hyperparameter Tuning Using GridSearchCV**"
      ],
      "metadata": {
        "id": "pmdrBlRcWbrk"
      }
    },
    {
      "cell_type": "markdown",
      "source": [
        "For SVM"
      ],
      "metadata": {
        "id": "z9Hm1PL_JRrC"
      }
    },
    {
      "cell_type": "code",
      "source": [
        "from sklearn.model_selection import GridSearchCV\n",
        "\n",
        "# Define parameter grid\n",
        "param_grid = {\n",
        "    'C': [0.1, 1, 10],\n",
        "    'kernel': ['linear', 'rbf']\n",
        "}\n",
        "\n",
        "# Initialize GridSearchCV\n",
        "grid_search = GridSearchCV(SVC(), param_grid, cv=5, scoring='accuracy', n_jobs=-1)\n",
        "\n",
        "# Fit model\n",
        "grid_search.fit(X_train, y_train)\n",
        "\n",
        "# Get best parameters\n",
        "print(\"Best Parameters:\", grid_search.best_params_)\n",
        "\n",
        "# Evaluate best model\n",
        "best_svm = grid_search.best_estimator_\n",
        "y_pred = best_svm.predict(X_test)\n",
        "print(f\"Tuned SVM Accuracy: {accuracy_score(y_test, y_pred):.4f}\")\n"
      ],
      "metadata": {
        "id": "AIK6LHdhR14e",
        "outputId": "94a324ce-43d7-4cea-9820-5a3723c5c7d9",
        "colab": {
          "base_uri": "https://localhost:8080/"
        }
      },
      "execution_count": 16,
      "outputs": [
        {
          "output_type": "stream",
          "name": "stdout",
          "text": [
            "Best Parameters: {'C': 0.1, 'kernel': 'linear'}\n",
            "Tuned SVM Accuracy: 0.8974\n"
          ]
        }
      ]
    },
    {
      "cell_type": "markdown",
      "source": [
        "For Random Forest Classifier"
      ],
      "metadata": {
        "id": "bbpnbAJ3JWoT"
      }
    },
    {
      "cell_type": "code",
      "source": [
        "from sklearn.ensemble import RandomForestClassifier\n",
        "from sklearn.model_selection import GridSearchCV\n",
        "from sklearn.metrics import accuracy_score\n",
        "\n",
        "# Define parameter grid for Random Forest\n",
        "param_grid = {\n",
        "    'n_estimators': [100, 200, 300],  # Number of trees\n",
        "    'max_depth': [10, 20, 30],        # Maximum depth of trees\n",
        "    'min_samples_split': [2, 5, 10]   # Minimum samples to split a node\n",
        "}\n",
        "\n",
        "# Initialize GridSearchCV\n",
        "grid_search_rf = GridSearchCV(\n",
        "    RandomForestClassifier(random_state=42),\n",
        "    param_grid,\n",
        "    cv=5,  # 5-fold cross-validation\n",
        "    scoring='accuracy',\n",
        "    n_jobs=-1  # Use all available processors\n",
        ")\n",
        "\n",
        "# Fit GridSearchCV\n",
        "grid_search_rf.fit(X_train, y_train)\n",
        "\n",
        "# Get best parameters\n",
        "print(\"Best Random Forest Parameters:\", grid_search_rf.best_params_)\n",
        "\n",
        "# Evaluate best model\n",
        "best_rf = grid_search_rf.best_estimator_\n",
        "y_pred_rf = best_rf.predict(X_test)\n",
        "print(f\"Tuned Random Forest Accuracy: {accuracy_score(y_test, y_pred_rf):.4f}\")\n"
      ],
      "metadata": {
        "colab": {
          "base_uri": "https://localhost:8080/"
        },
        "id": "4EzmI7UE3EsP",
        "outputId": "0d027157-53a7-4b55-8170-bc7f4a63918b"
      },
      "execution_count": 17,
      "outputs": [
        {
          "output_type": "stream",
          "name": "stdout",
          "text": [
            "Best Random Forest Parameters: {'max_depth': 10, 'min_samples_split': 2, 'n_estimators': 300}\n",
            "Tuned Random Forest Accuracy: 0.9487\n"
          ]
        }
      ]
    },
    {
      "cell_type": "markdown",
      "source": [
        "#**Save the Best Model Based on Accuracy**"
      ],
      "metadata": {
        "id": "YpSJwlDtJgql"
      }
    },
    {
      "cell_type": "code",
      "source": [
        "import joblib\n",
        "from tensorflow.keras.models import save_model\n",
        "\n",
        "# Dictionary to store model names and their corresponding accuracy\n",
        "model_performance = {}\n",
        "\n",
        "# using the best accuracy for different models\n",
        "model_performance[\"random_forest\"] = 0.9487\n",
        "model_performance[\"svm\"] = 0.9231\n",
        "model_performance[\"Neural Network\"] = 0.9487\n",
        "model_performance[\"logistic_regression\"] = 0.9231\n",
        "\n",
        "# Identify the best model\n",
        "best_model_name = max(model_performance, key=model_performance.get)\n",
        "best_accuracy = model_performance[best_model_name]\n",
        "\n",
        "print(f\"Best Model: {best_model_name} with Accuracy: {best_accuracy:.4f}\")\n",
        "\n",
        "# Save the best model\n",
        "if best_model_name == \"random_forest\":\n",
        "    joblib.dump(best_rf, \"best_model.pkl\")\n",
        "elif best_model_name == \"svm\":\n",
        "    joblib.dump(best_svm, \"best_model.pkl\")\n",
        "elif best_model_name == \"Neural Network\":\n",
        "    joblib.dump(NN,\"best_model.pkl\")\n",
        "elif best_model_name == \"logistic_regression\":\n",
        "    joblib.dump(log_reg, \"best_model.pkl\")\n",
        "print(f\"Best model saved as best_model.{('h5' if best_model_name == 'mlp' else 'pkl')}\")\n"
      ],
      "metadata": {
        "colab": {
          "base_uri": "https://localhost:8080/"
        },
        "id": "iWQj6qWB-a8c",
        "outputId": "74df7cc7-ab60-4fa9-c640-eb624f064b9a"
      },
      "execution_count": 48,
      "outputs": [
        {
          "output_type": "stream",
          "name": "stdout",
          "text": [
            "Best Model: random_forest with Accuracy: 0.9487\n",
            "Best model saved as best_model.pkl\n"
          ]
        }
      ]
    },
    {
      "cell_type": "code",
      "source": [
        "import joblib\n",
        "from tensorflow.keras.models import load_model\n",
        "\n",
        "# Dictionary to store model names and their corresponding accuracy\n",
        "model_performance = {\n",
        "    \"random_forest\": 0.9487,\n",
        "    \"svm\": 0.9231,\n",
        "    \"Neural Network\": 0.9487,\n",
        "    \"logistic_regression\": 0.9231\n",
        "}\n",
        "\n",
        "# Identify the best model dynamically\n",
        "best_model_name = max(model_performance, key=model_performance.get)\n",
        "best_accuracy = model_performance[best_model_name]\n",
        "\n",
        "print(f\"Best Model: {best_model_name} with Accuracy: {best_accuracy:.4f}\")\n"
      ],
      "metadata": {
        "colab": {
          "base_uri": "https://localhost:8080/"
        },
        "id": "gLGuwXQghzPy",
        "outputId": "2495fba1-a7bb-48ac-d836-df9d0cbf9eef"
      },
      "execution_count": 49,
      "outputs": [
        {
          "output_type": "stream",
          "name": "stdout",
          "text": [
            "Best Model: random_forest with Accuracy: 0.9487\n"
          ]
        }
      ]
    },
    {
      "cell_type": "code",
      "source": [
        "# Load the best model properly\n",
        "if best_model_name == \"Neural Network\":\n",
        "    best_model = load_model(\"best_model.h5\")  # Load Keras model\n",
        "else:\n",
        "    best_model = joblib.load(\"best_model.pkl\")  # Load ML models\n",
        "\n",
        "print(f\" Loaded best model: {best_model_name}\")"
      ],
      "metadata": {
        "colab": {
          "base_uri": "https://localhost:8080/"
        },
        "id": "SsWzoombVNrD",
        "outputId": "c653b4a5-c895-4af6-f33a-486f58f45561"
      },
      "execution_count": 50,
      "outputs": [
        {
          "output_type": "stream",
          "name": "stdout",
          "text": [
            " Loaded best model: random_forest\n"
          ]
        }
      ]
    },
    {
      "cell_type": "markdown",
      "source": [
        "# **Testing the model with another Dataset**"
      ],
      "metadata": {
        "id": "pr50fCu3Zdxj"
      }
    },
    {
      "cell_type": "code",
      "source": [
        "# Load test data\n",
        "file_path = \"/content/parkinsons_updrs.data\"\n",
        "test_data = pd.read_csv(file_path)\n",
        "\n",
        "# Print column names to check for non-numeric columns\n",
        "print(\"\\n Test Data Columns:\", test_data.columns)\n",
        "\n",
        "# Ensure 'status' column is removed before prediction\n",
        "if \"status\" in test_data.columns:\n",
        "    X_test_new = test_data.drop(columns=[\"status\"]).values  # Drop target column\n",
        "else:\n",
        "    X_test_new = test_data.values  # Use all data if 'status' is missing\n"
      ],
      "metadata": {
        "id": "WdjZRHb_Brnk",
        "colab": {
          "base_uri": "https://localhost:8080/"
        },
        "outputId": "f6b56321-ed72-4ee6-baf2-30eff20aba37"
      },
      "execution_count": 51,
      "outputs": [
        {
          "output_type": "stream",
          "name": "stdout",
          "text": [
            "\n",
            " Test Data Columns: Index(['subject#', 'age', 'sex', 'test_time', 'motor_UPDRS', 'total_UPDRS',\n",
            "       'Jitter(%)', 'Jitter(Abs)', 'Jitter:RAP', 'Jitter:PPQ5', 'Jitter:DDP',\n",
            "       'Shimmer', 'Shimmer(dB)', 'Shimmer:APQ3', 'Shimmer:APQ5',\n",
            "       'Shimmer:APQ11', 'Shimmer:DDA', 'NHR', 'HNR', 'RPDE', 'DFA', 'PPE'],\n",
            "      dtype='object')\n"
          ]
        }
      ]
    },
    {
      "cell_type": "markdown",
      "source": [
        "**Choosing the best model**"
      ],
      "metadata": {
        "id": "gsqrbhXeZuFA"
      }
    },
    {
      "cell_type": "code",
      "source": [
        "# Normalize if required\n",
        "if best_model_name == \"random_forest\":\n",
        "    scaler = StandardScaler()\n",
        "    X_test_new = scaler.fit_transform(X_test_new)\n",
        "\n",
        "# Get last 5 samples for prediction\n",
        "X_last_5 = X_test_new[-5:]\n",
        "\n",
        "\n",
        "# Make predictions\n",
        "predictions = best_model.predict(X_last_5)\n",
        "\n",
        "# Convert predictions to class labels for Neural Networks\n",
        "if best_model_name == \"random_forest\":\n",
        "    predictions = predictions.astype(int)"
      ],
      "metadata": {
        "id": "1RkU_e6QimM5"
      },
      "execution_count": 46,
      "outputs": []
    },
    {
      "cell_type": "markdown",
      "source": [
        "**Making Prediction**"
      ],
      "metadata": {
        "id": "zQtopNMzZ0Uo"
      }
    },
    {
      "cell_type": "code",
      "source": [
        "# Print Predictions\n",
        "print(\"\\n Predictions for Last 5 Data Points:\")\n",
        "for i, pred in enumerate(predictions):\n",
        "    predicted_label = \"Healthy\" if pred == 0 else \"Parkinson's\"\n",
        "    print(f\"Sample {len(X_test_new)-5+i+1}: Predicted Class -> {predicted_label}\")"
      ],
      "metadata": {
        "colab": {
          "base_uri": "https://localhost:8080/"
        },
        "id": "Fe9vmFAJVDZv",
        "outputId": "e1e2b50d-4f56-4dce-c1a3-299d315fe5d3"
      },
      "execution_count": 47,
      "outputs": [
        {
          "output_type": "stream",
          "name": "stdout",
          "text": [
            "\n",
            " Predictions for Last 5 Data Points:\n",
            "Sample 5871: Predicted Class -> Parkinson's\n",
            "Sample 5872: Predicted Class -> Healthy\n",
            "Sample 5873: Predicted Class -> Parkinson's\n",
            "Sample 5874: Predicted Class -> Healthy\n",
            "Sample 5875: Predicted Class -> Parkinson's\n"
          ]
        }
      ]
    },
    {
      "cell_type": "code",
      "source": [],
      "metadata": {
        "id": "YEKQdKvyW6xH"
      },
      "execution_count": null,
      "outputs": []
    }
  ]
}